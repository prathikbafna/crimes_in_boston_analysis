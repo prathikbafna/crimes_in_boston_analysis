{
 "cells": [
  {
   "cell_type": "code",
   "execution_count": 1,
   "metadata": {},
   "outputs": [],
   "source": [
    "import pandas as pd\n",
    "import numpy as np\n",
    "import math"
   ]
  },
  {
   "cell_type": "code",
   "execution_count": 2,
   "metadata": {},
   "outputs": [],
   "source": [
    "df=pd.read_csv(\"shuffled.csv\")"
   ]
  },
  {
   "cell_type": "code",
   "execution_count": 14,
   "metadata": {},
   "outputs": [],
   "source": [
    "offense=df['OFFENSE_CODE']\n",
    "X=offense"
   ]
  },
  {
   "cell_type": "code",
   "execution_count": 15,
   "metadata": {},
   "outputs": [],
   "source": [
    "area=df['REPORTING_AREA']\n",
    "Y=area"
   ]
  },
  {
   "cell_type": "code",
   "execution_count": 16,
   "metadata": {},
   "outputs": [
    {
     "name": "stdout",
     "output_type": "stream",
     "text": [
      "0.048522\n"
     ]
    }
   ],
   "source": [
    "def correlationCoefficient(X, Y, n) : \n",
    "\tsum_X = 0\n",
    "\tsum_Y = 0\n",
    "\tsum_XY = 0\n",
    "\tsquareSum_X = 0\n",
    "\tsquareSum_Y = 0\n",
    "\t\n",
    "\t\n",
    "\ti = 0\n",
    "\twhile i < n : \n",
    "\t\t# sum of elements of array X. \n",
    "\t\tsum_X = sum_X + X[i] \n",
    "\t\t\n",
    "\t\t# sum of elements of array Y. \n",
    "\t\tsum_Y = sum_Y + Y[i] \n",
    "\t\t\n",
    "\t\t# sum of X[i] * Y[i]. \n",
    "\t\tsum_XY = sum_XY + X[i] * Y[i] \n",
    "\t\t\n",
    "\t\t# sum of square of array elements. \n",
    "\t\tsquareSum_X = squareSum_X + X[i] * X[i] \n",
    "\t\tsquareSum_Y = squareSum_Y + Y[i] * Y[i] \n",
    "\t\t\n",
    "\t\ti = i + 1\n",
    "\t\n",
    "\t# use formula for calculating correlation \n",
    "\t# coefficient. \n",
    "\tcorr = (float)(n * sum_XY - sum_X * sum_Y)/(float)(math.sqrt((n * squareSum_X -sum_X * sum_X)* (n * squareSum_Y -sum_Y * sum_Y))) \n",
    "\treturn corr \n",
    "\t\n",
    "\n",
    " \n",
    "n = len(X) \n",
    "\n",
    "# Function call to correlationCoefficient. \n",
    "print ('{0:.6f}'.format(correlationCoefficient(X, Y, n))) \n",
    " \n"
   ]
  },
  {
   "cell_type": "code",
   "execution_count": null,
   "metadata": {},
   "outputs": [],
   "source": []
  }
 ],
 "metadata": {
  "kernelspec": {
   "display_name": "Python 3",
   "language": "python",
   "name": "python3"
  },
  "language_info": {
   "codemirror_mode": {
    "name": "ipython",
    "version": 3
   },
   "file_extension": ".py",
   "mimetype": "text/x-python",
   "name": "python",
   "nbconvert_exporter": "python",
   "pygments_lexer": "ipython3",
   "version": "3.7.3"
  }
 },
 "nbformat": 4,
 "nbformat_minor": 2
}
